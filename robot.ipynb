{
 "cells": [
  {
   "cell_type": "code",
   "execution_count": null,
   "metadata": {},
   "outputs": [
    {
     "name": "stdout",
     "output_type": "stream",
     "text": [
      "angles = [0.         0.34906585 0.52359878 0.34906585]\n"
     ]
    },
    {
     "data": {
      "text/plain": [
       "[<matplotlib.lines.Line2D at 0x7eee01de5510>]"
      ]
     },
     "execution_count": 2,
     "metadata": {},
     "output_type": "execute_result"
    },
    {
     "data": {
      "image/png": "[encoded data removed]",
      "text/plain": [
       "<Figure size 640x480 with 1 Axes>"
      ]
     },
     "metadata": {},
     "output_type": "display_data"
    }
   ],
   "source": [
    "import numpy as np \n",
    "import math \n",
    "import matplotlib.pyplot as plt\n",
    "\n",
    "### Define Robot Body\n",
    "# Link length \n",
    "L0 = 162.5\n",
    "L1 = 425\n",
    "L2 = 392.2\n",
    "L3 = 99.7 \n",
    "links= [L0/10,L1/10,L2/10,L3/10]\n",
    "\n",
    "\n",
    "##returns array with position for each link,\n",
    "    #angels in radians links in mm\n",
    "def forewardkin2(links,angles):\n",
    "    print('angles =', angles)\n",
    "    #end of each Link\n",
    "    Ex0 =  0# base \n",
    "    Ey0 = links[0]\n",
    "    Ey1 = math.cos(angles[1])*links[1] + Ey0\n",
    "    Ex1 = math.sin(angles[1])*links[1] + Ex0\n",
    "    Ey2 = math.cos(angles[1]+angles[2])*links[2] + Ey1\n",
    "    Ex2 = math.sin(angles[1]+angles[2])*links[2] + Ex1\n",
    "    Ey3 = math.cos(angles[1]+angles[2]+ angles[3]) * links[3] + Ey2\n",
    "    Ex3 = math.sin(angles[1]+angles[2]+angles[3]) * links[3] + Ex2 \n",
    "    #return np.array( [[Ex0,Ey0],[Ex1,Ey1],[Ex2,Ey2],[Ex3,Ey3]])\n",
    "    return np.array([[0,Ex0,Ex1,Ex2,Ex3],[0,Ey0,Ey1,Ey2,Ey3]])\n",
    "\n",
    "\n",
    "angles = np.deg2rad([0,20,30,20])\n",
    "joints = forewardkin2(links, angles)\n",
    "#print(joints)\n",
    "plt.figure\n",
    "plt.plot(joints[0],joints[1])\n"
   ]
  },
  {
   "cell_type": "code",
   "execution_count": null,
   "metadata": {},
   "outputs": [],
   "source": [
    "import gymnasium as gym \n",
    "from gym import spaces \n",
    "import numpy as np \n",
    "\n",
    "\n",
    "class TwoD_Robot(gym.Env): \n",
    "    def __init__(self, goal = np.array([50,30,10])):\n",
    "\n",
    "        self.L1 = 42.5 \n",
    "        self.L2 = 39.22 \n",
    "        self.L3 = 9.97\n",
    "\n",
    "        self.goal = np.array(goal)\n",
    "        # Action space: [delta_Theta1, delta_Theta2, delta_Theta3]\n",
    "        self.action_space = spaces.Box(low= -0.1, high =0.1, shape = (3,), dtype = np.float32)\n",
    "        # observation space, x,y, theta1,theta2,theta3 \n",
    "        self.observation_space = spaces.Box( \n",
    "            low= np.array([-200,-200, -np.pi,-np.pi, -np.pi,-np.pi]),\n",
    "            high= np.array([200,200, np.pi, np.pi, np.pi,np.pi]),\n",
    "            dtype = np.float32 \n",
    "        )\n",
    "\n",
    "        #initial joint angles \n",
    "        self.theta = np.array([0.0,0.0,0.0])\n",
    "\n",
    "        self.ee_pose = self.Fkin(self.theta)\n",
    "        \n",
    "\n",
    "        def Fkin(self,theta):\n",
    "            \"\"\"compute Endeffector Pose and returns x,y and theta (angles). zero pose is a vertical line\"\"\"\n",
    "            x = (self.L1 * np.sin(theta[0]) +\n",
    "                self.L2 * np.sin(theta[0] + theta[1]) +\n",
    "                self.L3 * np.sin(theta[0] + theta[1] + theta[2]))\n",
    "            y = (self.L1 * np.cos(theta[0]) +\n",
    "                self.L2 * np.cos(theta[0] + theta[1]) +\n",
    "                self.L3 * np.cos(theta[0] + theta[1] + theta[2]))\n",
    "            theta_E = theta[0] + theta[1] + theta[2]\n",
    "\n",
    "            return np.array([x,y,theta_E])\n",
    "\n",
    "        def reset(self):\n",
    "            self.theta = np.random.uniform(-np.pi, np.pi, size = 3)\n",
    "            self.ee_position = self.forward_kinematics(self.theta)\n",
    "            return np.array(self.ee_position, self.theta)\n",
    "        \n",
    "        def step(self,action):\n",
    "\n",
    "            self.theta += action \n",
    "            self.theta = np.clip(self.theta, -np.pi, np.pi)  # Keep angles in range\n",
    "            self.ee_position = self.forwar_kinematics(self.theta)\n",
    "\n",
    "\n"
   ]
  }
 ],
 "metadata": {
  "kernelspec": {
   "display_name": "venv",
   "language": "python",
   "name": "python3"
  },
  "language_info": {
   "codemirror_mode": {
    "name": "ipython",
    "version": 3
   },
   "file_extension": ".py",
   "mimetype": "text/x-python",
   "name": "python",
   "nbconvert_exporter": "python",
   "pygments_lexer": "ipython3",
   "version": "3.10.12"
  }
 },
 "nbformat": 4,
 "nbformat_minor": 2
}
